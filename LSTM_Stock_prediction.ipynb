{
 "cells": [
  {
   "cell_type": "code",
   "execution_count": 1,
   "metadata": {},
   "outputs": [],
   "source": [
    "# MET CS 767 - Machine Learning - Final Project\n",
    "# Prasad Kothpalli\n",
    "# Stock Price Prediction Problem Using XGBoost  Method\n",
    "# Loading and Handling Data into pandas using Libraries"
   ]
  },
  {
   "cell_type": "code",
   "execution_count": 31,
   "metadata": {},
   "outputs": [],
   "source": [
    "# This is a LSTM NN model to predict Stock prices for NASDAQ and Interntional Stocks\n",
    "# Thsi is going to demonstrate LSTM using stackable layers of LSTMs\n",
    "# import pandas and other libraries\n",
    "\n",
    "import pandas as pd\n",
    "import matplotlib.pyplot as plt\n",
    "import numpy as np \n",
    "import math\n",
    "from sklearn.preprocessing import MinMaxScaler\n",
    "from sklearn.metrics import mean_squared_error\n",
    "from keras.models import Sequential\n",
    "from keras.layers import Dense, Activation, Dropout\n",
    "from keras.layers import LSTM\n",
    "from sklearn import preprocessing "
   ]
  },
  {
   "cell_type": "code",
   "execution_count": 32,
   "metadata": {},
   "outputs": [],
   "source": [
    "# import Yahoo finance library"
   ]
  },
  {
   "cell_type": "code",
   "execution_count": 33,
   "metadata": {},
   "outputs": [
    {
     "name": "stdout",
     "output_type": "stream",
     "text": [
      "[*********************100%***********************]  1 of 1 completed\n"
     ]
    },
    {
     "data": {
      "text/html": [
       "<div>\n",
       "<style scoped>\n",
       "    .dataframe tbody tr th:only-of-type {\n",
       "        vertical-align: middle;\n",
       "    }\n",
       "\n",
       "    .dataframe tbody tr th {\n",
       "        vertical-align: top;\n",
       "    }\n",
       "\n",
       "    .dataframe thead th {\n",
       "        text-align: right;\n",
       "    }\n",
       "</style>\n",
       "<table border=\"1\" class=\"dataframe\">\n",
       "  <thead>\n",
       "    <tr style=\"text-align: right;\">\n",
       "      <th></th>\n",
       "      <th>Open</th>\n",
       "      <th>High</th>\n",
       "      <th>Low</th>\n",
       "      <th>Close</th>\n",
       "    </tr>\n",
       "    <tr>\n",
       "      <th>Date</th>\n",
       "      <th></th>\n",
       "      <th></th>\n",
       "      <th></th>\n",
       "      <th></th>\n",
       "    </tr>\n",
       "  </thead>\n",
       "  <tbody>\n",
       "    <tr>\n",
       "      <th>2014-02-13</th>\n",
       "      <td>64.18</td>\n",
       "      <td>67.330002</td>\n",
       "      <td>64.050003</td>\n",
       "      <td>67.330002</td>\n",
       "    </tr>\n",
       "    <tr>\n",
       "      <th>2014-02-14</th>\n",
       "      <td>67.50</td>\n",
       "      <td>67.580002</td>\n",
       "      <td>66.720001</td>\n",
       "      <td>67.089996</td>\n",
       "    </tr>\n",
       "  </tbody>\n",
       "</table>\n",
       "</div>"
      ],
      "text/plain": [
       "             Open       High        Low      Close\n",
       "Date                                              \n",
       "2014-02-13  64.18  67.330002  64.050003  67.330002\n",
       "2014-02-14  67.50  67.580002  66.720001  67.089996"
      ]
     },
     "execution_count": 33,
     "metadata": {},
     "output_type": "execute_result"
    }
   ],
   "source": [
    "from pandas_datareader import data as pdr #extract data from internet sources into pandas data frame\n",
    "import yfinance as yf\n",
    "\n",
    "yf.pdr_override()\n",
    "start_date = \"2014-02-13\"\n",
    "end_date = \"2020-03-20\"\n",
    "stocks = 'FB'\n",
    "df = pdr.get_data_yahoo(stocks, start = start_date, end = end_date )\n",
    "dataset = df [['Open', 'High', 'Low', 'Close']]\n",
    "dataset.head(2)"
   ]
  },
  {
   "cell_type": "code",
   "execution_count": 34,
   "metadata": {},
   "outputs": [],
   "source": [
    "# Choose randon reproducebility \n",
    "np.random.seed(101)\n",
    " \n",
    "dataset = dataset.reindex(index = dataset.index[::-1])\n",
    "\n",
    "# Creating own  Obserbvations   for  use\n",
    "obs = np.arange(1, len(dataset) + 1, 1)\n",
    "\n",
    "#  Taking OHLC, HLC and close value indicators for prediction\n",
    " \n",
    "OHLC_avg = dataset.mean(axis = 1)\n",
    "HLC_avg = dataset[['High', 'Low', 'Close']].mean(axis = 1)\n",
    "close_val = dataset[['Close']]"
   ]
  },
  {
   "cell_type": "code",
   "execution_count": 35,
   "metadata": {},
   "outputs": [
    {
     "data": {
      "image/png": "[encoded data removed]",
      "text/plain": [
       "<Figure size 432x288 with 1 Axes>"
      ]
     },
     "metadata": {
      "needs_background": "light"
     },
     "output_type": "display_data"
    }
   ],
   "source": [
    "#Plot the graph with above indicators \n",
    "\n",
    "plt.plot(obs, OHLC_avg, 'r', label = 'OHLC avg')\n",
    "plt.plot(obs, HLC_avg, 'b', label = 'HLC avg')\n",
    "plt.plot(obs, close_val, 'g', label = 'Closing price')\n",
    "plt.legend(loc = 'upper right')\n",
    "\n",
    "plt.show()"
   ]
  },
  {
   "cell_type": "code",
   "execution_count": 36,
   "metadata": {},
   "outputs": [],
   "source": [
    "# Stacked LSTM Model  implementation \n",
    "# data set function takes data set and returns a Time series data as  array with t and t+ step_size \n",
    "\n",
    "def new_dataset(dataset, step_size):\n",
    "    trainX, trainY = [], []\n",
    "    for i in range(len(dataset)-step_size-1):\n",
    "        a = dataset[i:(i+step_size), 0]\n",
    "        trainX.append(a)\n",
    "        trainY.append(dataset[i + step_size, 0])\n",
    "    return np.array(trainX), np.array(trainY)\n",
    "\n",
    "# Prepartaion of Time series Dataset\n",
    "# Applying Normalization before feeding to LSTM using Sklearn\n",
    "# MinMaxScaler works by shrinking range of values into 0 and 1\n",
    "\n",
    "OHLC_avg = np.reshape(OHLC_avg.values, (len(OHLC_avg),1)) \n",
    "scaler = MinMaxScaler(feature_range=(0, 1))\n",
    "OHLC_avg = scaler.fit_transform(OHLC_avg)\n",
    "\n",
    "# Prepare Train and Test Sets  \n",
    "\n",
    "train_OHLC = int(len(OHLC_avg) * 0.85) #3155\n",
    "test_OHLC = len(OHLC_avg) - train_OHLC #1353\n",
    "train_OHLC, test_OHLC = OHLC_avg[0:train_OHLC,:], OHLC_avg[train_OHLC:len(OHLC_avg),:]"
   ]
  },
  {
   "cell_type": "code",
   "execution_count": 42,
   "metadata": {},
   "outputs": [],
   "source": [
    "# Time_series Dataset  (FOR TIME T, VALUES FOR TIME T+1)\n",
    "trainX, trainY = new_dataset(train_OHLC, 1)\n",
    "testX, testY = new_dataset(test_OHLC, 1)"
   ]
  },
  {
   "cell_type": "code",
   "execution_count": 43,
   "metadata": {},
   "outputs": [],
   "source": [
    "# Reshaping train and Test data as a 3 D array to be passed  to LSTM \n",
    "trainX = np.reshape(trainX, (trainX.shape[0], 1, trainX.shape[1]))\n",
    "testX = np.reshape(testX, (testX.shape[0], 1, testX.shape[1]))\n",
    "step_size = 1"
   ]
  },
  {
   "cell_type": "code",
   "execution_count": 44,
   "metadata": {},
   "outputs": [
    {
     "data": {
      "text/plain": [
       "(229, 1, 1)"
      ]
     },
     "execution_count": 44,
     "metadata": {},
     "output_type": "execute_result"
    }
   ],
   "source": [
    "testX.shape"
   ]
  },
  {
   "cell_type": "code",
   "execution_count": 45,
   "metadata": {},
   "outputs": [
    {
     "name": "stdout",
     "output_type": "stream",
     "text": [
      "Model: \"sequential_2\"\n",
      "_________________________________________________________________\n",
      "Layer (type)                 Output Shape              Param #   \n",
      "=================================================================\n",
      "lstm_4 (LSTM)                (None, 1, 128)            66560     \n",
      "_________________________________________________________________\n",
      "dropout_3 (Dropout)          (None, 1, 128)            0         \n",
      "_________________________________________________________________\n",
      "lstm_5 (LSTM)                (None, 1, 64)             49408     \n",
      "_________________________________________________________________\n",
      "activation_4 (Activation)    (None, 1, 64)             0         \n",
      "_________________________________________________________________\n",
      "dropout_4 (Dropout)          (None, 1, 64)             0         \n",
      "_________________________________________________________________\n",
      "lstm_6 (LSTM)                (None, 32)                12416     \n",
      "_________________________________________________________________\n",
      "dense_3 (Dense)              (None, 8)                 264       \n",
      "_________________________________________________________________\n",
      "activation_5 (Activation)    (None, 8)                 0         \n",
      "_________________________________________________________________\n",
      "dense_4 (Dense)              (None, 1)                 9         \n",
      "_________________________________________________________________\n",
      "activation_6 (Activation)    (None, 1)                 0         \n",
      "=================================================================\n",
      "Total params: 128,657\n",
      "Trainable params: 128,657\n",
      "Non-trainable params: 0\n",
      "_________________________________________________________________\n",
      "None\n"
     ]
    }
   ],
   "source": [
    "# LSTM MODEL  for Stacked Implementation\n",
    "\n",
    "model = Sequential()\n",
    "# Output of hidden state of neuron is used as an input to the next LSTM layer\n",
    "model.add(LSTM(units = 128, input_shape=(1, step_size), return_sequences = True))\n",
    "#\n",
    "model.add(Dropout(0.1))\n",
    "# Output of hidden state of neuron is used as an input to the next LSTM layer\n",
    "model.add(LSTM(units = 64, return_sequences = True))\n",
    "model.add(Activation('softmax'))\n",
    "model.add(Dropout(0.1))\n",
    "model.add(LSTM(units = 32 ,return_sequences = False))\n",
    "model.add(Dense(units = 8))\n",
    "model.add(Activation('relu'))\n",
    "# Dense layer which acts as the output model of the layer\n",
    "model.add(Dense(units = 1))\n",
    "model.add(Activation('linear'))\n",
    "\n",
    "# MODEL COMPILING AND TRAINING\n",
    "\n",
    "model.compile(loss='mean_squared_error', optimizer='adam') # Try SGD, adam, adagrad and compare!!!\n",
    "\n",
    "#Print model Summary\n",
    "print(model.summary())\n",
    "history = model.fit(trainX, trainY, epochs=500, validation_data = (testX, testY ), batch_size=4, verbose=0, shuffle = False) # Epochs = 50\n",
    " "
   ]
  },
  {
   "cell_type": "code",
   "execution_count": 110,
   "metadata": {},
   "outputs": [
    {
     "data": {
      "image/png": "[encoded data removed]",
      "text/plain": [
       "<Figure size 432x288 with 1 Axes>"
      ]
     },
     "metadata": {
      "needs_background": "light"
     },
     "output_type": "display_data"
    }
   ],
   "source": [
    "# plot train and validation loss\n",
    "plt.plot(history.history['loss'])\n",
    "plt.plot(history.history['val_loss'])\n",
    "plt.title('model train vs validation loss')\n",
    "plt.ylabel('loss')\n",
    "plt.xlabel('epoch')\n",
    "plt.legend(['train', 'validation'], loc='upper right')\n",
    "plt.show()"
   ]
  },
  {
   "cell_type": "code",
   "execution_count": 111,
   "metadata": {},
   "outputs": [],
   "source": [
    "# Predictions on train and test data are as follws\n",
    "trainPredict = model.predict(trainX)\n",
    "testPredict = model.predict(testX)"
   ]
  },
  {
   "cell_type": "code",
   "execution_count": 112,
   "metadata": {},
   "outputs": [],
   "source": [
    "# DE-NORMALIZING FOR PLOTTING - Scale Bcak for normal Plotting\n",
    "trainPredict = scaler.inverse_transform(trainPredict)\n",
    "trainY = scaler.inverse_transform([trainY])\n",
    "testPredict = scaler.inverse_transform(testPredict)\n",
    "testY = scaler.inverse_transform([testY])"
   ]
  },
  {
   "cell_type": "code",
   "execution_count": 113,
   "metadata": {},
   "outputs": [
    {
     "name": "stdout",
     "output_type": "stream",
     "text": [
      "Train RMSE: 27.46\n"
     ]
    }
   ],
   "source": [
    "# TRAINING RMSE with results \n",
    "trainScore = math.sqrt(mean_squared_error(trainY[0], trainPredict[:,0]))\n",
    "print('Train RMSE: %.2f' % (trainScore))"
   ]
  },
  {
   "cell_type": "code",
   "execution_count": 114,
   "metadata": {},
   "outputs": [
    {
     "name": "stdout",
     "output_type": "stream",
     "text": [
      "Test RMSE: 1.56\n"
     ]
    }
   ],
   "source": [
    "# TEST RMSE\n",
    "testScore = math.sqrt(mean_squared_error(testY[0], testPredict[:,0]))\n",
    "print('Test RMSE: %.2f' % (testScore))"
   ]
  },
  {
   "cell_type": "code",
   "execution_count": 115,
   "metadata": {},
   "outputs": [],
   "source": [
    "# RMSE of test > RMSE of train => OVER FITTING of the data.\n",
    "# RMSE of test < RMSE of train => UNDER FITTING of the data.\n",
    "# adagrad - 50 epochs - 0.75 - Train 0.01 - Test -0.02\n",
    "# adam - 50 epochs - 0.75 - Train 0.01 - Test -0.01\n",
    "# SGD - 50 epochs - 0.75 - Train 0.01 - Test -0.01\n",
    "# SGD - 100 epochs - 0.75 - Train 2.49 - Test 1.05\n",
    "# Adam - 100 epochs - 0.75 - Train 3.24 - Test 2.78 ( units = 50,25, 1)\n",
    "# Adam - 100 epochs - 0.75 - Train 2.61 - Test 1.67 ( units = 32,16, 1) - FB\n",
    "# Adam - 150 epochs - 0.75 - Train 2.57 - Test 1.58 ( units = 32,16, 1)\n",
    "# Adam - 50 epochs - 0.75 - Train 2.87 - Test 6.18 ( units = 32,16, 1)\n",
    "# Adam - 100 epochs - 0.75 - Train 0.64 - Test 0.45 ( units = 32,16, 1) - TTM\n",
    "# Adam - 100 epochs - 0.75 - Train 3.55 - Test 0.99 ( units = 32,16, 1) - NFLX\n",
    "# Adam - 100 epochs - 0.67 - Train 4.24 - Test 0.98 ( units = 32,16, 1) - NFLX\n",
    "# Adam - 100 epochs - 0.85 - Train 3.18 - Test 1.09 ( units = 32,16, 1) - NFLX\n",
    "# Adam - 100 epochs - 0.90 - Train 3.44 - Test 0.520 ( units = 32,16,8, 1 - first layer) - NFLX\n",
    "# Adam - 50 epochs - 0.67 - Train 3.7 - Test 0.152 ( units = 32,16,8, 1 - first layer) - NFLX\n",
    "# Adam - 50 epochs - 0.67 - Train 3.7 - Test 0.152 ( units = 32,16,8, 1 - first layer) - NFLX\n",
    "# Adam - 50 epochs - 0.70 - Train 3.7 - Test 0.152 ( units = 50,25,5,1 - first layer) - NFLX\n",
    "# Adam - 50 epochs - 0.70 - Train 4.14 - Test 3.03 ( units = 50,50,25,5,1 - first layer) - NFLX - Drop 0.1\n",
    "\n",
    "# Adam - 50 epochs - 0.70 - Train 3.74 - Test 2.08 ( units = 50,50,25,1 - first layer) - NFLX - Linear \n",
    "\n",
    "# Adam - 50 epochs - 0.70 - Train 155.74 - Test 2.63 ( units = 50,50,25,1 - first layer) - NFLX - ReLU \n",
    "# Adam - 50 epochs - 0.70 - Train 3.77 - Test 2.30 ( units = 50,50,25,1 - first layer) - NFLX - Linear \n",
    "# Adam - 50 epochs - 0.70 - Train 4.33 - Test 1.82 ( units = 50,50,25,1 - first layer) - NFLX - Linear  - Bi-drectional 1l\n",
    "# Adam - 50 epochs - 0.70 - Train 4.97 - Test 0.35 ( units = 50,50,25,1 - first layer) - NFLX - Linear  - Bi-drectional 2l\n",
    "\n",
    "# Adam - 50 epochs - 0.70 - Train 3.90 - Test 2.05 ( units = 50,25,12,1 - first layer) - NFLX - Linear  - Bi-drectional 3l\n",
    "# Adam - 50 epochs - 0.70 - Train 3.52 - Test 2.02 ( units = 50,50,25,1 - 3 layers) - NFLX - Linear  - Bi-drectional\n",
    "# Adam - 50 epochs - 0.70 - Train 47.56 - Test 1.29 ( units = 100,50,25,1 - 3 layers) - NFLX - Linear  - stack"
   ]
  },
  {
   "cell_type": "code",
   "execution_count": 116,
   "metadata": {},
   "outputs": [],
   "source": [
    "# CREATING SIMILAR DATASET TO PLOT TRAINING PREDICTIONS\n",
    "trainPredictPlot = np.empty_like(OHLC_avg)\n",
    "trainPredictPlot[:, :] = np.nan\n",
    "trainPredictPlot[step_size:len(trainPredict)+step_size, :] = trainPredict"
   ]
  },
  {
   "cell_type": "code",
   "execution_count": 117,
   "metadata": {},
   "outputs": [],
   "source": [
    "# CREATING SIMILAR DATASSET TO PLOT TEST PREDICTIONS\n",
    "testPredictPlot = np.empty_like(OHLC_avg)\n",
    "testPredictPlot[:, :] = np.nan\n",
    "testPredictPlot[len(trainPredict)+(step_size*2)+1:len(OHLC_avg)-1, :] = testPredict"
   ]
  },
  {
   "cell_type": "code",
   "execution_count": 118,
   "metadata": {},
   "outputs": [
    {
     "data": {
      "image/png": "[encoded data removed]",
      "text/plain": [
       "<Figure size 432x288 with 1 Axes>"
      ]
     },
     "metadata": {
      "needs_background": "light"
     },
     "output_type": "display_data"
    }
   ],
   "source": [
    "# DE-NORMALIZING MAIN DATASET \n",
    "OHLC_avg = scaler.inverse_transform(OHLC_avg)\n",
    "\n",
    "# PLOT OF MAIN OHLC VALUES, TRAIN PREDICTIONS AND TEST PREDICTIONS\n",
    "plt.plot(OHLC_avg, 'g', label = 'original dataset')\n",
    "plt.plot(trainPredictPlot, 'r', label = 'training set')\n",
    "plt.plot(testPredictPlot, 'b', label = 'predicted stock price')\n",
    "plt.legend(loc = 'upper right')\n",
    "plt.xlabel('Time in Days')\n",
    "plt.ylabel('OHLC Value of NFLX Stock')\n",
    "plt.show()"
   ]
  },
  {
   "cell_type": "code",
   "execution_count": 119,
   "metadata": {},
   "outputs": [],
   "source": [
    "# PREDICT FUTURE VALUES\n",
    "last_val = trainPredict[1]"
   ]
  },
  {
   "cell_type": "code",
   "execution_count": 120,
   "metadata": {},
   "outputs": [
    {
     "data": {
      "text/plain": [
       "array([355.85477], dtype=float32)"
      ]
     },
     "execution_count": 120,
     "metadata": {},
     "output_type": "execute_result"
    }
   ],
   "source": [
    "last_val"
   ]
  },
  {
   "cell_type": "code",
   "execution_count": 121,
   "metadata": {},
   "outputs": [
    {
     "name": "stdout",
     "output_type": "stream",
     "text": [
      "Last Day Value: 355.8547668457031\n",
      "Next Day Value: 289.472412109375\n"
     ]
    },
    {
     "name": "stderr",
     "output_type": "stream",
     "text": [
      "/share/pkg.7/python3/3.6.9/install/lib/python3.6/site-packages/ipykernel_launcher.py:3: DeprecationWarning: np.asscalar(a) is deprecated since NumPy v1.16, use a.item() instead\n",
      "  This is separate from the ipykernel package so we can avoid doing imports until\n",
      "/share/pkg.7/python3/3.6.9/install/lib/python3.6/site-packages/ipykernel_launcher.py:4: DeprecationWarning: np.asscalar(a) is deprecated since NumPy v1.16, use a.item() instead\n",
      "  after removing the cwd from sys.path.\n"
     ]
    }
   ],
   "source": [
    "last_val_scaled = last_val/last_val\n",
    "next_val = model.predict(np.reshape(last_val_scaled, (1,1,1)))\n",
    "print (\"Last Day Value:\", np.asscalar(last_val))\n",
    "print (\"Next Day Value:\", np.asscalar(last_val*next_val))\n",
    "#print np.append(last_val, next_val)"
   ]
  },
  {
   "cell_type": "code",
   "execution_count": 1,
   "metadata": {},
   "outputs": [
    {
     "name": "stdout",
     "output_type": "stream",
     "text": [
      "/usr/bin/sh: nvidia-smi: command not found\n"
     ]
    }
   ],
   "source": [
    "!nvidia-smi\n"
   ]
  },
  {
   "cell_type": "code",
   "execution_count": 2,
   "metadata": {},
   "outputs": [
    {
     "name": "stdout",
     "output_type": "stream",
     "text": [
      "\n"
     ]
    }
   ],
   "source": [
    "!echo $CUDA_VISIBLE_DEVICES"
   ]
  }
 ],
 "metadata": {
  "kernelspec": {
   "display_name": "Python 3",
   "language": "python",
   "name": "python3"
  },
  "language_info": {
   "codemirror_mode": {
    "name": "ipython",
    "version": 3
   },
   "file_extension": ".py",
   "mimetype": "text/x-python",
   "name": "python",
   "nbconvert_exporter": "python",
   "pygments_lexer": "ipython3",
   "version": "3.7.4"
  }
 },
 "nbformat": 4,
 "nbformat_minor": 4
}
